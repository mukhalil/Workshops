{
    "metadata": {
      "kernelspec": {
        "display_name": "Workshop Notebook",
        "name": "Workshop"
      }
    },
    "nbformat_minor": 5,
    "nbformat": 4,
    "cells": [
      {
        "cell_type": "markdown",
        "id": "623743e8-2cd7-47c6-99e7-100979384579",
        "metadata": {
          "name": "md_intro",
          "collapsed": false
        },
        "source": "# Getting Started with Snowflake Notebooks\n\n* Author: Rida Safdar\n* Last Updated: 3/5/2025\n\nWelcome to the beginning of the Notebook!"
      },
      {
        "cell_type": "markdown",
        "id": "9e6273e5-bcf7-4492-92f6-cc161da082c6",
        "metadata": {
          "name": "md_step01",
          "collapsed": false
        },
        "source": "## Step 01: Setup Snowflake\n\nDuring this step, we will create our demo environment."
      },
      {
        "cell_type": "code",
        "id": "dc608c96-0957-47e1-8492-bc8d382925e3",
        "metadata": {
          "language": "sql",
          "name": "sql_step03_account_objects"
        },
        "outputs": [],
        "source": "-- ----------------------------------------------------------------------------\n-- Create the account-level objects (ACCOUNTADMIN part)\n-- ----------------------------------------------------------------------------\n\nUSE ROLE ACCOUNTADMIN;\n\n-- Roles\nCREATE OR REPLACE ROLE DEMO_ROLE;\nGRANT ROLE DEMO_ROLE TO ROLE SYSADMIN;\nGRANT CREATE INTEGRATION ON ACCOUNT TO ROLE DEMO_ROLE;\nGRANT EXECUTE TASK ON ACCOUNT TO ROLE DEMO_ROLE;\nGRANT EXECUTE MANAGED TASK ON ACCOUNT TO ROLE DEMO_ROLE;\nGRANT MONITOR EXECUTION ON ACCOUNT TO ROLE DEMO_ROLE;\nGRANT IMPORTED PRIVILEGES ON DATABASE SNOWFLAKE TO ROLE DEMO_ROLE;\n\n-- Databases\nCREATE OR REPLACE DATABASE DEMO_DB;\nGRANT OWNERSHIP ON DATABASE DEMO_DB TO ROLE DEMO_ROLE;\n\n-- Warehouses\nCREATE OR REPLACE WAREHOUSE DEMO_WH WAREHOUSE_SIZE = XSMALL, AUTO_SUSPEND = 300, AUTO_RESUME= TRUE;\nGRANT OWNERSHIP ON WAREHOUSE DEMO_WH TO ROLE DEMO_ROLE;"
      },
      {
        "cell_type": "code",
        "id": "a1e2ae2c-241b-4d8f-aa99-11a35f9833a4",
        "metadata": {
          "language": "sql",
          "name": "sql_step03_database_objects"
        },
        "outputs": [],
        "source": "-- ----------------------------------------------------------------------------\n-- Create the database-level objects\n-- ----------------------------------------------------------------------------\nUSE ROLE DEMO_ROLE;\nUSE WAREHOUSE DEMO_WH;\nUSE DATABASE DEMO_DB;\n\n-- Schemas\nCREATE OR REPLACE SCHEMA INTEGRATIONS;\nCREATE OR REPLACE SCHEMA DEV_SCHEMA;\nCREATE OR REPLACE SCHEMA PROD_SCHEMA;\n\nUSE SCHEMA INTEGRATIONS;"
      },
      {
        "cell_type": "markdown",
        "id": "753bb327-95e4-4559-b7c7-f034607196c9",
        "metadata": {
          "name": "md_step02",
          "collapsed": false
        },
        "source": "## Step 02: Load Weather Data\n\nKeep it fresh.\n\nWeather Source is a leading provider of global weather and climate data. Their OnPoint Product Suite provides businesses with necessary weather and climate data for generating meaningful insights. Let's connect to the \"Weather Source LLC: frostbyte\" feed from Weather Source in the Snowflake Data Marketplace by following these steps in Snowsight:\n\n* In the left navigation bar, click on \"Data Products\" and then \"Marketplace\"\n* Search for \"Weather Source LLC: frostbyte\" and click on the tile in the results\n* Click the blue \"Get\" button\n* Under \"Options\", adjust the Database name to \"FROSTBYTE_WEATHERSOURCE\" (all capital letters)\n* Grant to the role \"DEMO_ROLE\"\n\nThat's it! We don't have to do anything else to keep this data updated—the provider will handle it, and data sharing ensures we always see their most recent publications."
      },
      {
        "cell_type": "code",
        "id": "04a850e3-44a4-4829-882e-84724f7e77d7",
        "metadata": {
          "language": "sql",
          "name": "sql_step03_load_data"
        },
        "outputs": [],
        "source": "/*---\n-- You can also load the data via code by specifying the account/share details...\nSET WEATHERSOURCE_ACCT_NAME = '*** PUT ACCOUNT NAME HERE AS PART OF DEMO SETUP ***';\nSET WEATHERSOURCE_SHARE_NAME = '*** PUT ACCOUNT SHARE HERE AS PART OF DEMO SETUP ***';\nSET WEATHERSOURCE_SHARE = $WEATHERSOURCE_ACCT_NAME || '.' || $WEATHERSOURCE_SHARE_NAME;\n\nCREATE OR REPLACE DATABASE FROSTBYTE_WEATHERSOURCE\n  FROM SHARE IDENTIFIER($WEATHERSOURCE_SHARE);\n\nGRANT IMPORTED PRIVILEGES ON DATABASE FROSTBYTE_WEATHERSOURCE TO ROLE DEMO_ROLE;\n---*/"
      },
      {
        "cell_type": "markdown",
        "id": "753bb327-95e4-4559-b7c7-f034607196c9",
        "metadata": {
          "name": "md_step04",
          "collapsed": false
        },
        "source": "## Step 04: Query the Data\n\nLet's look at the data using the same 3-part naming convention as any other table and then create a view"
      },
      {
        "cell_type": "code",
        "id": "7e2762d1-fe91-4a7c-b89a-56e1baf0001c",
        "metadata": {
          "language": "sql",
          "name": "sql_step04_view_data"
        },
        "outputs": [],
        "source": "-- \nSELECT * FROM FROSTBYTE_WEATHERSOURCE.ONPOINT_ID.POSTAL_CODES LIMIT 100;"
      },                 
      {
        "cell_type": "markdown",
        "id": "a09c95f7-fa25-438b-b470-ac8fada5f81b",
        "metadata": {
         "collapsed": false,
         "jupyter": {
          "outputs_hidden": false
         },
         "name": "cell5"
        },
        "source": [
         "## Plotting with Altair\n",
         "\n",
         "Now let's plot a bar chart in Altair. You can learn more about Altair [here](https://altair-viz.github.io/)."
        ]
       },
       {
        "cell_type": "code",
        "execution_count": 0,
        "id": "c695373e-ac74-4b62-a1f1-08206cbd5c81",
        "metadata": {
            "codeCollapsed": false,
            "collapsed": false,
            "jupyter": {
                "outputs_hidden": false
            },
            "language": "python",
            "name": "cell6"
        },
        "outputs": [],
        "source": [
            "import pandas as pd\n",
            "import altair as alt\n",
            "\n",
            "# Create a sample DataFrame\n",
            "df = pd.DataFrame({\n",
            "    'measurement': ['A', 'B', 'C', 'D'],\n",
            "    'value': [10, 15, 7, 20],\n",
            "    'species': ['Setosa', 'Versicolor', 'Virginica', 'Setosa']\n",
            "})\n",
            "\n",
            "# Create and display the Altair chart\n",
            "alt.Chart(df).mark_bar().encode(\n",
            "    x=alt.X('measurement', axis=alt.Axis(labelAngle=0)),\n",
            "    y='value',\n",
            "    color='species'\n",
            ").properties(\n",
            "    width=700,\n",
            "    height=500\n",
            ")"
        ]
    },    
       {
        "cell_type": "markdown",
        "id": "37bbb377-515d-4559-beb0-7450d9c33828",
        "metadata": {
         "collapsed": false,
         "jupyter": {
          "outputs_hidden": false
         },
         "name": "cell22"
        },
        "source": [
         "## Bring your Notebook alive with Streamlit\n",
         "\n",
         "You can bring your data narrative alive in notebooks and make it even more interactive by using Streamlit.\n",
         "\n",
         "[Streamlit](https://streamlit.io/) is an open-source framework for building interactive data apps in Python (not a single line of HTML or Javascript required!)\n",
         "\n",
         "Unlike in other notebooks where you need to navigate to a separate terminal window to serve up your Streamlit app, you can test and develop your Streamlit app directly in your notebook. \n",
         "\n",
         "We saw how you can embed images using Markdown. Here we show how you can embed images in your notebook using Streamlit which gives you more image customization options."
        ]
       },
       {
        "cell_type": "code",
        "execution_count": 0,
        "id": "57910a57-50b2-4e40-ae30-5cd123bf65c3",
        "metadata": {
         "codeCollapsed": false,
         "collapsed": false,
         "jupyter": {
          "outputs_hidden": false
         },
         "language": "python",
         "name": "cell23"
        },
        "outputs": [],
        "source": [
         "import streamlit as st\n",
         "st.image(\"https://www.snowflake.com/wp-content/themes/snowflake/assets/img/brand-guidelines/logo-sno-blue-example.svg\",width=500)"
        ]
       },
       {
        "cell_type": "code",
        "execution_count": 0,
        "id": "08bf80ac-bc12-4e41-8079-cfff2ce29e7d",
        "metadata": {
         "collapsed": false,
         "jupyter": {
          "outputs_hidden": false
         },
         "language": "python",
         "name": "cell24"
        },
        "outputs": [],
        "source": [
         "# Also works with a GIF animation!\n",
         "st.image(\"https://upload.wikimedia.org/wikipedia/commons/2/2c/Rotating_earth_%28large%29.gif\", caption=\"Rotating Earth!\")"
        ]
       },
       {
        "cell_type": "markdown",
        "id": "941238e2-3632-49c3-a76c-d1d22345688c",
        "metadata": {
         "collapsed": false,
         "jupyter": {
          "outputs_hidden": false
         },
         "name": "cell28"
        },
        "source": [
         "## Interactive data apps 🕹️\n",
         "\n",
         "Think of each cell in your Snowflake Notebook as a mini Streamlit app. As you interact with your data app, the relevant cells will get re-executed and the results in your app updates.\n"
        ]
       },
       {
        "cell_type": "code",
        "execution_count": 0,
        "id": "aca7e5b1-78a5-4799-bc9a-af44c777a333",
        "metadata": {
            "codeCollapsed": false,
            "collapsed": false,
            "jupyter": {
                "outputs_hidden": false
            },
            "language": "python",
            "name": "cell29"
        },
        "outputs": [],
        "source": [
            "import streamlit as st\n",
            "\n",
            "# Display a markdown header\n",
            "st.markdown('### Move the slider to adjust and watch the results update!')\n",
            "\n",
            "# Create two columns\n",
            "col1, col2 = st.columns(2)\n",
            "\n",
            "# Add sliders to the columns\n",
            "with col1:\n",
            "    mean = st.slider('Mean of RATING Distribution', 0, 10, 3)\n",
            "\n",
            "with col2:\n",
            "    stdev = st.slider('Standard Deviation of RATING Distribution', 0, 10, 5)\n",
            "\n",
            "# Optionally, display the selected values\n",
            "st.write(f'Selected Mean: {mean}')\n",
            "st.write(f'Selected Standard Deviation: {stdev}')"
        ]
    }
    ]
  }
  
